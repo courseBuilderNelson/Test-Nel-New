{
 "cells": [
  {
   "cell_type": "markdown",
   "id": "8c5cf88e-d605-4ad8-86f0-49f096412b1d",
   "metadata": {},
   "source": [
    "<h1 style=\"color:purple;\"><center><big>B92 Protocol</big></center></h1>\n",
    "<h4><center>By Graeme Jacobson</center></h4>"
   ]
  },
  {
   "cell_type": "markdown",
   "id": "15116db3-b27f-4047-b621-a9f902d8b8ed",
   "metadata": {},
   "source": [
    "<h1 style=\"color:Fuchsia\">What is Quantum Cryptography?</h1>"
   ]
  },
  {
   "cell_type": "markdown",
   "id": "d17ed7c6-9b29-4488-b1b2-71242729d8b9",
   "metadata": {},
   "source": [
    "Cybersecurity is one of the most important aspects of any organization in the modern era. It protects sensitive information for all kinds of people in an organization. Whether it is your banking information, social media credentials, or email, it is all protected by an important aspect of cybersecurity: Cryptography. Cryptography is the method of using math to disguise information and make it almost impossible to undisguise. These methods for protecting our information are done behind the scenes, making the everyday person feel confident online, without needing to be a math or computer science wizard."
   ]
  },
  {
   "cell_type": "markdown",
   "id": "6432ae10-5b53-4d7d-8ebe-baf0edf1e9c1",
   "metadata": {},
   "source": [
    "As quantum computing and quantum photonics become more advanced, one of the many pratical applications will be in Cryptography. As it turns out, the  <a href=\"https://en.wikipedia.org/wiki/No-cloning_theorem\">Quantum No-Cloning Theorem</a> creates very nice security blanket for quantum cryptography protocols. This theorem states that you cannot create a copy of an arbitrary, unknown quantum state. That is, if you were to receive the $|+\\rangle$ state, you cannot create a copy of this state, because you would need to measure the state, collapsing the state to either $|0\\rangle$ or $|1\\rangle$. The only way to copy the state would be if the person that sent you the $|+\\rangle$ state, told you what it was, allowing you to prepare another $|+\\rangle$ state (but you don't want to disclose what that original state is)."
   ]
  },
  {
   "cell_type": "markdown",
   "id": "39036ed9-b8a3-4774-b69e-0a5b5a66c92c",
   "metadata": {},
   "source": [
    "<a href=\"https://en.wikipedia.org/wiki/Quantum_key_distribution\">Quantum Key Distribution</a> (QKD) is the way that we take advantage of the no-cloning theorem to send ecrypted messages. Essentially, one party will send a number of quantum states to the other party, then will simulatenously create a private key and check if their quantum communication channel has an eavesdropper present. They will then decide on the final private key, and finally encode their message with said key. Since quantum states cannot be cloned, an eavesdropper will not be able to copy the states sent through the quantum channel between the two partie. Irregularities in the states being sent will be considered corrupted, and these states will be thrown out. That is really amazing because classically, you cannot tell if someone else is in your communication channel, but now, you can tell if someone is looking at your information. That is why quantum key distribution is considered one of the most promising forms of cybersecurity in the future."
   ]
  },
  {
   "cell_type": "markdown",
   "id": "7ed77aaa-735d-463b-b823-5d1408921be1",
   "metadata": {},
   "source": [
    "<p style=\"text-align:center\"><img src=\"/filesystem/home/graemejacobson-40qbraid-2ecom/personal/images/b92_overview.png\"></p>"
   ]
  },
  {
   "cell_type": "markdown",
   "id": "9b1cbf95-ac7b-4a22-ab07-4623c6bc7fcd",
   "metadata": {},
   "source": [
    "<h1 style=\"color: Fuchsia\">B92 Protocol</h1>"
   ]
  },
  {
   "cell_type": "markdown",
   "id": "7e708321-0fa0-4118-bf30-9f6e10e80be8",
   "metadata": {},
   "source": [
    "The B92 Protocol is one of the most popular forms of quantum key distribution, behind the BB84 protocol, that does not use quantum entanglement (that's a story for another day). This protocol uses two non-orthogonal bases, for example, the $X$ and $Z$ bases. It is known to be more secure than BB84 because of that fact, meaning less final states are accepted. However, that also means that it is not a very efficient method since a majority of quantum states that are sent will be thrown out. Typically around $25\\%$ of states are kept for the final key, meaning that if you wanted to have a 25 bit key, you would need to send around 100 quantum states."
   ]
  },
  {
   "cell_type": "markdown",
   "id": "5d6d4cbe-8f57-4898-bda1-15f9e968f72d",
   "metadata": {},
   "source": [
    "Let's say Alice wants to send Bob an ecrypted message. For the sake of this blog post, I will say that the two non-orthogonal bases that will be used are the $X$ and $Z$ bases.\n",
    "\n",
    "*Note that the basis states for $X$ are:\n",
    "\n",
    "$|+\\rangle = \\frac{1}{\\sqrt{2}}(|0\\rangle+|1\\rangle)$, $|-\\rangle = \\frac{1}{\\sqrt{2}}(|0\\rangle-|1\\rangle)$\n",
    "\n",
    "*The basis states for $Z$ are just $|0\\rangle$ and $|1\\rangle$"
   ]
  },
  {
   "cell_type": "markdown",
   "id": "d0b0f140-00a7-473a-aaa5-4d7133cb5b5d",
   "metadata": {},
   "source": [
    "<p style=\"text-align:center\"><img src=\"/filesystem/home/graemejacobson-40qbraid-2ecom/personal/images/b92_basis.png\"></p>"
   ]
  },
  {
   "cell_type": "markdown",
   "id": "001430f7-d6f2-40d0-bda8-a40db30ac6c1",
   "metadata": {},
   "source": [
    "To start, Alice will generate a random bit string of $0$ 's and $1$ 's (size depends on how long of a message she wants to send). A $0$ will correspond to a $|0\\rangle$, and a $1$ will correspond to a $|+\\rangle$. Alice will then send all these states to Bob via a quantum channel. Bob will now generate his own random bit string, where $0$ will correspond to measuring a state in the $Z$ basis, and $1$ corresponds to measuring in the $X$ basis. Once Bob has measured each state using his basis choices, he will communicate to Alice over a classical channel which positions in the string of states he measured to be $|1\\rangle$ ( $|1\\rangle$ is the least frequent measurement and can still be measured from either original state $|0\\rangle$ or $|+\\rangle$). Finally, Alice will keep her original bits at the positions where $|1\\rangle$ was measured, and Bob will keep the opposite of his original bit string at those positions (so it matches Alice's final string). Now, they have the private key made to encode information for a classical channel.\n",
    "\n",
    "However, we typically take one last security measure, and pick a few positions from the private key and discuss what they are over the classical channel. Naturally, these positions will be deleted since they were publically dicussed, but this part of the process can detect if there was an eavesdropper in the quantum channel. If the positions they dicussed were the same (Bob's key being exactly opposite of Alice's), things are all good. If there is no tampering with the quantum states, eavesdroppers or errors, the bits should match. If any of the bits do not match, they will throw away the entire private key, assuming there was an eavesdropper, and start the process over again."
   ]
  },
  {
   "cell_type": "markdown",
   "id": "1cc50481-90aa-462c-bb41-f7e64a022cb7",
   "metadata": {},
   "source": [
    "Look at the example chart below. You can see Alice's bit string denoted by \"a bit\" and Bob's bit string denoted by \"a' bit\". After Alice sent her states to Bob and Bob measured each state, you can see Bob's measurements and the percentage of the time he would measure that particular state in that system. Notice how you never measure $|1\\rangle$ with $100\\%$ chance. This is on purpose, so that the least amount of states are finally selected, increasing security of the protocol. Finally, noticed the three positions where a $|1\\rangle$ was measured. Alice's bit was chosen as the bit for the private key, 010, and Bob's bit should be the exact opposite of this bit, 101. Bob will flip all his bits, so that him and Alice share the same key. If Bob flips these bits and gets something other than Alice's key, we know there was an eavesdropper in the channel."
   ]
  },
  {
   "cell_type": "markdown",
   "id": "f6cf6466-bd98-4a63-a53d-9aced7b716d4",
   "metadata": {},
   "source": [
    "<p style=\"text-align:center\"><img src=\"/filesystem/home/graemejacobson-40qbraid-2ecom/personal/images/b92_chart.png\"></p>"
   ]
  },
  {
   "cell_type": "markdown",
   "id": "d2f61dd2-9e58-47a5-812c-a7ac4e557b85",
   "metadata": {},
   "source": [
    "<h1 style=\"color:Fuchsia\">B92 Implementation</h1>"
   ]
  },
  {
   "cell_type": "markdown",
   "id": "5cef9b33-3de6-4749-9ea5-8db7504bd82f",
   "metadata": {},
   "source": [
    "Now, let's go through the step by step process again, and use some python to show off it's beauty. I'll show both an ideal case and the case where an eavesdropper is present. Again, the final goal here is to create a private key between Alice and Bob, so they can later send each other encrypted messages.\n",
    "\n",
    "**Keep in mind, this is going to be a very dumbed down version of the real process, and normally the bit strings would be massive to send long messages. I am also not going to encode messages, and only show the process of QKD."
   ]
  },
  {
   "cell_type": "code",
   "execution_count": 1,
   "id": "dda2452a-c3b5-4d30-8998-6e31488758c0",
   "metadata": {
    "tags": []
   },
   "outputs": [],
   "source": [
    "from qiskit import *\n",
    "from numpy import pi\n",
    "import random\n",
    "import string"
   ]
  },
  {
   "cell_type": "markdown",
   "id": "4c88312b-3034-4325-8e69-89b49b8387b5",
   "metadata": {},
   "source": [
    "Before we actually start the B92 protocol, I am going to make two functions that will come into play throughout the protocol. The first, generate_bit_string, will build a random bit string from the choices of bit_choices for a specified length. The second, generate_qc, will build onto quantum circuit, qc, based on a bit_string. For B92, a Hadamard Gate will be place on the qubit corresponding to the position in the bit string that reads a $1$."
   ]
  },
  {
   "cell_type": "code",
   "execution_count": 2,
   "id": "7648dda4-af94-4a5d-bd75-0a3f5d950998",
   "metadata": {},
   "outputs": [],
   "source": [
    "def generate_bit_string(bit_choices, length):\n",
    "    \n",
    "    bit_string = []\n",
    "    \n",
    "    for i in range(length):\n",
    "        curr_bit = random.choice(bit_choices)\n",
    "        bit_string.append(curr_bit)\n",
    "        \n",
    "    return bit_string\n",
    "\n",
    "\n",
    "def generate_qc(bit_string, qc):\n",
    "    \n",
    "    for qubit in range(len(bit_string)):\n",
    "        if bit_string[qubit] == 1:\n",
    "            qc.h(qubit)\n",
    "        else:\n",
    "            continue\n",
    "        \n",
    "    qc.barrier()"
   ]
  },
  {
   "cell_type": "markdown",
   "id": "636f0ce8-c388-48e5-b2c4-41e519f7105d",
   "metadata": {},
   "source": [
    "Like before, we will begin with Alice randomly generating her bit string. Note that just like with classical bits, her selection can either be a $0$ or a $1$. I am, also, going to set the length of our bit_string, here, to a length of $20$. Like I mentioned before, normally, these strings will be much larger than this."
   ]
  },
  {
   "cell_type": "code",
   "execution_count": 3,
   "id": "a17529f3-e9aa-4a94-b039-3c4f01bc4f3d",
   "metadata": {},
   "outputs": [],
   "source": [
    "bit_choices = [0,1]\n",
    "bit_length = 20"
   ]
  },
  {
   "cell_type": "markdown",
   "id": "f205efe3-6aae-42c6-8365-9a3afaef0f59",
   "metadata": {},
   "source": [
    "Now, let's generate our bit_string for Alice using the function we made earlier."
   ]
  },
  {
   "cell_type": "code",
   "execution_count": 4,
   "id": "974e7e37-aae5-4342-bf53-6d74cf7f675e",
   "metadata": {},
   "outputs": [],
   "source": [
    "alice_string = generate_bit_string(bit_choices, bit_length)\n",
    "print(alice_string)"
   ]
  },
  {
   "cell_type": "markdown",
   "id": "94a9fd0d-36a9-4a6b-8b2d-c0ecf8bb242a",
   "metadata": {},
   "source": [
    "Now, we will initalize our quantum circuit, so we can build the initial states that Alice will be sending to Bob. Note that I am making both a QuantumRegister and ClassicalRegister. This is because we will be measuring all these qubits in order to securely create a private key."
   ]
  },
  {
   "cell_type": "code",
   "execution_count": 5,
   "id": "fadb78b4-769a-4ca8-8c48-bf6febb00e02",
   "metadata": {},
   "outputs": [],
   "source": [
    "qr = QuantumRegister(bit_length)\n",
    "cr = ClassicalRegister(bit_length)\n",
    "qc = QuantumCircuit(qr, cr)\n",
    "\n",
    "qc.draw()"
   ]
  },
  {
   "cell_type": "markdown",
   "id": "9f2b7e3d-142f-4aa1-8023-25b0c88e3ee2",
   "metadata": {},
   "source": [
    "At this point, everything should be setup to continue with the protocol. So, we can finally build our states that Alice will be sending to Bob based on her bit string. Remember, whenever her bit string has a $1$, we will place an $H$ gate, to make it a $|+\\rangle$ state. Otherwise, we leave the state as $|0\\rangle$."
   ]
  },
  {
   "cell_type": "code",
   "execution_count": 6,
   "id": "133ad522-8408-46f6-83e0-5d6695c671fe",
   "metadata": {},
   "outputs": [],
   "source": [
    "generate_qc(alice_string, qc)\n",
    "qc.draw()"
   ]
  },
  {
   "cell_type": "markdown",
   "id": "27c49509-9f11-46f0-86f2-95815c999fdc",
   "metadata": {},
   "source": [
    "Sweet! We have our quantum states for Alice. You can see by the circuit where Alice had a $1$ or $0$ in her bit string! She will send these states down the quantum channel to Bob, where he will make his measurements. But first, Bob needs to decide how he's going to measure each of theses quantum states."
   ]
  },
  {
   "cell_type": "markdown",
   "id": "79320a8a-15b8-457c-a738-4f639223335c",
   "metadata": {},
   "source": [
    "Remember, once these states leave Alice, you must measure the state in order to see what it is. So, think about anywhere beyond the barrier that I placed on the circuit, you will not know the state unless you measure it."
   ]
  },
  {
   "cell_type": "markdown",
   "id": "60dcbdee-587b-4e77-b56b-98d249ed63ea",
   "metadata": {},
   "source": [
    "Now, let's generate Bob's bit string."
   ]
  },
  {
   "cell_type": "code",
   "execution_count": 7,
   "id": "94450e3f-966a-4e66-870b-f1737ab1ccd9",
   "metadata": {},
   "outputs": [],
   "source": [
    "bob_string = generate_bit_string(bit_choices, bit_length)\n",
    "print(bob_string)"
   ]
  },
  {
   "cell_type": "markdown",
   "id": "ebafa985-c2cf-4321-beb9-8a3b6927218d",
   "metadata": {},
   "source": [
    "Bob now has his bit string. Like when Alice used the bit string to decide what state she sent, Bob will use his bit string to decide what basis to measure the qubit in. You can measure in the $Z$ basis by not placing any gates right before the measurement. You can measure in the $X$ basis by placing an $H$ gate before the measurement."
   ]
  },
  {
   "cell_type": "code",
   "execution_count": 8,
   "id": "9dd786c8-27d0-4862-8364-211fbc2803bc",
   "metadata": {},
   "outputs": [],
   "source": [
    "generate_qc(bob_string, qc)\n",
    "qc.draw()"
   ]
  },
  {
   "cell_type": "markdown",
   "id": "647bd0a1-4136-4185-8fdb-6e7a101ba0f7",
   "metadata": {},
   "source": [
    "Bob's gates are now placed in the circuit to decide how he will measure each qubit. I have not measured these qubits just yet. Take a moment to guess what will happen if a certain qubit has either no gates on it, or has two $H$ gates on it. What should Bob measure?\n",
    "\n",
    "If you guessed $|0\\rangle$, you are correct! If the qubit is measured in the basis that it is currently in, it will measure a $|0\\rangle$. This means the only way to measure a $|1\\rangle$ is if only one of Alice or Bob placed an $H$ gate on the circuit. Even then, this will measure $|1\\rangle$  $50\\%$ of the time. This means that you should measure $|1\\rangle$ about $25\\%$ of the time in total, and $|0\\rangle$ $75\\%$ of the time. That won't always be spot on due to the randomized nature of quantum, but it's a good estimate.\n",
    "\n",
    "Let's see how our measurements come out for Bob. Start by measuring all the qubits, then we will use IBM's qasm-simulator to run the results."
   ]
  },
  {
   "cell_type": "code",
   "execution_count": 9,
   "id": "91a89585-4162-4792-8c52-2bef006f4a6d",
   "metadata": {},
   "outputs": [],
   "source": [
    "qc.measure(qr, cr)\n",
    "qc.draw()"
   ]
  },
  {
   "cell_type": "code",
   "execution_count": 10,
   "id": "69c1dd04-c628-4803-8dff-0958b3cdd5af",
   "metadata": {},
   "outputs": [],
   "source": [
    "simulator = Aer.get_backend('qasm_simulator')\n",
    "job = execute(qc, simulator, shots=1, memory=True)\n",
    "results = job.result().get_memory()\n",
    "\n",
    "result_string = results[0] #get the string of bit measurements\n",
    "result_split = list(map(lambda i:i, result_string)) #split the string of measurements\n",
    "key = list(map(int, result_split)) #turn each bit into an int\n",
    "key.reverse() #for correct order in alice bits\n",
    "print(key)"
   ]
  },
  {
   "cell_type": "markdown",
   "id": "bc860585-464c-4cf4-8e21-53325b409891",
   "metadata": {},
   "source": [
    "And there you have it, our key. Like I commented in the code, qiskit measurement results read from right to left, so I reversed the string in order to have it read from left to right. Note, as well, the amount of $1$'s that came out of the measurements. It should be around five bits, which is about $25\\%$ of the key.\n",
    "\n",
    "However, this is not yet the final key. We need to first, find the bits for only the positions that have a $1$, and then perform our security measure on the key.\n",
    "\n",
    "Let's make our private key by using Alice's bit string at the positions where our 'key' above is a $1$. Remember, Bob will use this same procedure to get his key, but he should have the opposite bit at each position. So, the opposite of his string will be Alice's string, which ends up being the private key."
   ]
  },
  {
   "cell_type": "code",
   "execution_count": 11,
   "id": "6c1cf515-f753-4280-b7f6-17c89fe80c07",
   "metadata": {},
   "outputs": [],
   "source": [
    "private_key_alice = []\n",
    "private_key_bob = []\n",
    "\n",
    "for i in range(len(key)):\n",
    "    if key[i] == 1:\n",
    "        private_key_alice.append(alice_string[i])\n",
    "        private_key_bob.append(bob_string[i])\n",
    "    else:\n",
    "        continue\n",
    "        \n",
    "print(private_key_alice)\n",
    "print(private_key_bob)"
   ]
  },
  {
   "cell_type": "markdown",
   "id": "291c3cbe-3584-4224-85b4-3cda486f1f61",
   "metadata": {},
   "source": [
    "Just like predicted, their keys are exactly the opposite. However, we use Alice's string as the private key. For Bob, that will just be the opposite of his string. \n",
    "\n",
    "Now, that we have our key, Alice and Bob will do a security measure to make sure that there was no eavesdropper present. To do this, they will share random parts of their key and make sure that they have the same bits (once Bob has flipped all the bits of his private key). If they do not, that will assume that their quantum channel was comprimised, and they will throw out the entire key and start again. Otherwise, they will just throw out the keys that they checked and keep the rest as the final private key for encryption.\n",
    "\n",
    "To make more sense of why this security measure works, let's show what this protocol might look like if there is an eavesdropper present."
   ]
  },
  {
   "cell_type": "markdown",
   "id": "6b435c76-6f62-4ef8-9507-a383a698b26d",
   "metadata": {},
   "source": [
    "<br></br>"
   ]
  },
  {
   "cell_type": "markdown",
   "id": "3d414f71-96ba-4c4d-8af0-f0ce53705a49",
   "metadata": {},
   "source": [
    "Starting from the top again, let's say that Alice's bit string is $1011000101$. She will make her quantum states.\n",
    "\n",
    "**I decreased the size for this example"
   ]
  },
  {
   "cell_type": "code",
   "execution_count": 27,
   "id": "f6871788-43ea-499c-ad24-74da55e42095",
   "metadata": {},
   "outputs": [],
   "source": [
    "alice_string_e = [1,0,1,1,0,0,0,1,0,1]\n",
    "\n",
    "qre = QuantumRegister(10)\n",
    "cre = ClassicalRegister(10)\n",
    "qce = QuantumCircuit(qre, cre)\n",
    "\n",
    "generate_qc(alice_string_e, qce)\n",
    "qce.draw()"
   ]
  },
  {
   "cell_type": "markdown",
   "id": "7e1ed9cc-bfa5-402f-a1c7-e33b134fbed1",
   "metadata": {},
   "source": [
    "Alice has now sent these states down the quantum channel. But, an eavesdropper is present on this channel. Let's call her Eve. In order for Eve to see the states, she will have to measure the states. Remember, in quantum mechanics, if you measure a quantum state, you collapse the entire state, and all prior information about that state is lost."
   ]
  },
  {
   "cell_type": "code",
   "execution_count": 28,
   "id": "27ffc45b-9441-4e98-a1e6-5157b0239a0a",
   "metadata": {},
   "outputs": [],
   "source": [
    "qce.measure(qre, cre)\n",
    "qce.barrier()\n",
    "qce.draw()"
   ]
  },
  {
   "cell_type": "markdown",
   "id": "97551dce-1ea0-45f7-b1cf-2fc44bbd5714",
   "metadata": {},
   "source": [
    "Eve will go ahead and build her bit string in the same fashion, so she can examine what states she has gotten."
   ]
  },
  {
   "cell_type": "code",
   "execution_count": 29,
   "id": "0079454e-1730-4ca5-ae60-4b8af43f753f",
   "metadata": {},
   "outputs": [],
   "source": [
    "simulator = Aer.get_backend('qasm_simulator')\n",
    "job = execute(qce, simulator, shots=1, memory=True)\n",
    "resultse = job.result().get_memory()\n",
    "\n",
    "result_stringe = resultse[0] \n",
    "result_splite = list(map(lambda i:i, result_stringe)) \n",
    "keye = list(map(int, result_splite)) \n",
    "keye.reverse() \n",
    "print(keye)"
   ]
  },
  {
   "cell_type": "markdown",
   "id": "4ec43406-dbac-4d89-b7c8-de79408c4378",
   "metadata": {},
   "source": [
    "Let's take a look at what the eavesdropper measured. Notice, she cannot tell if a state was a $|0\\rangle$ or $|+\\rangle$ originally. She can only make an inference. A good assumption would be to place an $H$ gate where a $|1\\rangle$ was measured, but remember, some of those $|0\\rangle$'s also came from an $H$ gate. So, Eve will have to guess the initial states. \n",
    "\n",
    "That is the power of the no-cloning theorom. Quantum states cannot be cloned, so Eve will have to guess what state she was sent. These guess will be sent onto Bob, where the protocol will resume.\n",
    "\n",
    "Eve will now place $H$ gates on qubits with her best guestimate."
   ]
  },
  {
   "cell_type": "code",
   "execution_count": 30,
   "id": "5c2f7d70-8913-4d78-8ebf-113576cf3c49",
   "metadata": {},
   "outputs": [],
   "source": [
    "qce.h(0)\n",
    "qce.h(2)\n",
    "qce.h(6)\n",
    "qce.h(8)\n",
    "qce.barrier()\n",
    "\n",
    "qce.draw()"
   ]
  },
  {
   "cell_type": "markdown",
   "id": "7e7093d2-85de-4a7b-a2f5-f7a16202b04a",
   "metadata": {},
   "source": [
    "Notice how the eavesdropper can guess where the $H$ gate will go, where a $|1\\rangle$ is measured (though I am running a new circuit each time, so it will not be perfect), but is guessing for all of the $|0\\rangle$ states that were measured. So, some of these guesses are going to be wrong.\n",
    "\n",
    "After the gates are placed and new states are formed, Eve will send these down the quantum channel to Bob, acting like she wasn't even there.\n",
    "\n",
    "Bob will go on to continue by measuring these states. I will make a random bit string for Bob to use on his measurements."
   ]
  },
  {
   "cell_type": "code",
   "execution_count": 31,
   "id": "e8adce82-cb11-4af5-8d0c-97cea27498a3",
   "metadata": {},
   "outputs": [],
   "source": [
    "bob_string_e = [1,1,0,0,1,0,0,0,1,0]\n",
    "\n",
    "generate_qc(bob_string_e, qce)\n",
    "qce.measure(qre, cre)\n",
    "qce.draw()"
   ]
  },
  {
   "cell_type": "code",
   "execution_count": 32,
   "id": "c4ac010a-b8a1-4bd0-9e0c-3b33c9363e67",
   "metadata": {},
   "outputs": [],
   "source": [
    "simulator = Aer.get_backend('qasm_simulator')\n",
    "job = execute(qce, simulator, shots=1, memory=True)\n",
    "results = job.result().get_memory()\n",
    "\n",
    "result_string = results[0] \n",
    "result_split = list(map(lambda i:i, result_string)) \n",
    "key = list(map(int, result_split)) \n",
    "key.reverse() \n",
    "print(key)"
   ]
  },
  {
   "cell_type": "markdown",
   "id": "e940e803-41f8-483c-bc07-f278792bd15c",
   "metadata": {},
   "source": [
    "So, Bob made his measurements, and him and Alice have discussed which positions were measured to be a $|1\\rangle$. Below, I am going to do out the process for both. The first time we did this, using an ideal case, Alice and Bob's private string were exact opposites of each other. However, since there was an eavesdropper present in this case, that should not be the case.\n",
    "\n",
    "Let's create the private strings for Alice and Bob just like we did previously and compare them."
   ]
  },
  {
   "cell_type": "code",
   "execution_count": 33,
   "id": "00480fb9-3691-4b3c-bff7-13e7c38c2cf5",
   "metadata": {},
   "outputs": [],
   "source": [
    "private_key_a = []\n",
    "private_key_b = []\n",
    "\n",
    "for i in range(len(key)):\n",
    "    if key[i] == 1:\n",
    "        private_key_a.append(alice_string_e[i])\n",
    "        private_key_b.append(bob_string_e[i])\n",
    "    else:\n",
    "        continue\n",
    "        \n",
    "print(private_key_a)\n",
    "print(private_key_b)"
   ]
  },
  {
   "cell_type": "markdown",
   "id": "972babd7-6d7a-4a42-b030-9d81a2000bcb",
   "metadata": {},
   "source": [
    "Look at that! Their strings are not exactly opposite of each other. If Alice and Bob were to compare their bits, they would notice an inconsistency. They will now assume that their quantum channel was comprimised and restart the process over again.\n",
    "\n",
    "The power of the no-cloning theorom and quantum measurements allowed for Alice and Bob to see that there was an eavesdropper in their channel. This is not something that is possible classically, and gives quantum cryptography a nice advantage over its classical analogue."
   ]
  }
 ],
 "metadata": {
  "kernelspec": {
   "display_name": "[qBraid-SDK] Python 3",
   "language": "python",
   "name": "python3_qbraid_sdk_9j9sjy"
  },
  "language_info": {
   "codemirror_mode": {
    "name": "ipython",
    "version": 3
   },
   "file_extension": ".py",
   "mimetype": "text/x-python",
   "name": "python",
   "nbconvert_exporter": "python",
   "pygments_lexer": "ipython3",
   "version": "3.9.10"
  },
  "toc-autonumbering": false
 },
 "nbformat": 4,
 "nbformat_minor": 5
}
