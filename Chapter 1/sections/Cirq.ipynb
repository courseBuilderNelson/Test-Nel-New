{
 "cells": [
  {
   "cell_type": "code",
   "execution_count": null,
   "id": "21431fae-4ded-4bb1-bd00-8e48e6bc34db",
   "metadata": {},
   "outputs": [],
   "source": [
    "cirq kernel"
   ]
  }
 ],
 "metadata": {
  "kernelspec": {
   "display_name": "Python 3 [Cirq]",
   "language": "python",
   "name": "python3_cirq__openfer_5f52ck"
  },
  "language_info": {
   "codemirror_mode": {
    "name": "ipython",
    "version": 3
   },
   "file_extension": ".py",
   "mimetype": "text/x-python",
   "name": "python",
   "nbconvert_exporter": "python",
   "pygments_lexer": "ipython3",
   "version": "3.9.10"
  }
 },
 "nbformat": 4,
 "nbformat_minor": 5
}
